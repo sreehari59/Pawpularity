{
  "nbformat": 4,
  "nbformat_minor": 0,
  "metadata": {
    "colab": {
      "name": "Bias of the pretrained embeddings.ipynb",
      "provenance": [],
      "collapsed_sections": [],
      "authorship_tag": "ABX9TyN8AyEbbH0EWgbv2fMxJogv",
      "include_colab_link": true
    },
    "kernelspec": {
      "name": "python3",
      "display_name": "Python 3"
    },
    "language_info": {
      "name": "python"
    }
  },
  "cells": [
    {
      "cell_type": "markdown",
      "metadata": {
        "id": "view-in-github",
        "colab_type": "text"
      },
      "source": [
        "<a href=\"https://colab.research.google.com/github/sreehari59/Pawpularity/blob/main/Bias_of_the_pretrained_embeddings.ipynb\" target=\"_parent\"><img src=\"https://colab.research.google.com/assets/colab-badge.svg\" alt=\"Open In Colab\"/></a>"
      ]
    },
    {
      "cell_type": "code",
      "execution_count": 1,
      "metadata": {
        "colab": {
          "base_uri": "https://localhost:8080/"
        },
        "id": "jMuILf_SNI42",
        "outputId": "3ae0e011-8cbb-437b-eb55-c5f31e998ef0"
      },
      "outputs": [
        {
          "output_type": "stream",
          "name": "stdout",
          "text": [
            "Mounted at /content/drive\n"
          ]
        }
      ],
      "source": [
        "import pandas as pd\n",
        "from google.colab import drive\n",
        "drive.mount('/content/drive')\n"
      ]
    },
    {
      "cell_type": "code",
      "source": [
        "wiki_polar_embedding = pd.read_csv('/content/drive/MyDrive/POLAR-GloVeWiki-bus-antonyms-inter.csv')\n",
        "\n",
        "print(wiki_polar_embedding.head())\n"
      ],
      "metadata": {
        "colab": {
          "base_uri": "https://localhost:8080/"
        },
        "id": "fG7bngSQNT5O",
        "outputId": "e15a38ea-0653-4f86-a2c8-fe5fe1d46fda"
      },
      "execution_count": 49,
      "outputs": [
        {
          "output_type": "stream",
          "name": "stdout",
          "text": [
            "   Unnamed: 0  femininemasculine  consistentinconsistent  privatepublic  \\\n",
            "0     walmart          -0.000883                0.018534      -0.069315   \n",
            "1      amazon          -0.059732                0.018154       0.233711   \n",
            "2       apple           0.018550                0.117052      -0.003355   \n",
            "3  volkswagen          -0.011157                0.060459      -0.108954   \n",
            "4    mckesson           0.071077               -0.174042       0.057184   \n",
            "\n",
            "   intangibletangible  declinegrowth  ethicalunethical  connecteddisconnected  \\\n",
            "0            0.055498      -0.300998         -0.114446               0.073519   \n",
            "1            0.085981      -0.242430         -0.047248               0.234184   \n",
            "2            0.015758      -0.129933         -0.060065               0.147650   \n",
            "3            0.043943      -0.095942         -0.106628              -0.190915   \n",
            "4           -0.130110       0.007880          0.054659               0.014312   \n",
            "\n",
            "   globallylocally  satisfiedunsatisfied  ...  goodiessalary  \\\n",
            "0         0.154110             -0.161244  ...      -0.082296   \n",
            "1         0.108418             -0.084842  ...       0.046393   \n",
            "2         0.124808              0.013360  ...       0.079080   \n",
            "3         0.131403             -0.017981  ...       0.124742   \n",
            "4        -0.031518             -0.098635  ...      -0.192824   \n",
            "\n",
            "   criminalrightful  biasunbias  captivefreedom  allianceproprietorship  \\\n",
            "0          0.030431   -0.006858       -0.034474                0.162935   \n",
            "1          0.002577   -0.014715        0.018525                0.198380   \n",
            "2         -0.075069    0.196780       -0.089285               -0.036281   \n",
            "3         -0.122883   -0.050889        0.016388                0.006956   \n",
            "4         -0.000012   -0.003804       -0.047132                0.084317   \n",
            "\n",
            "   collaborationsilo  followerinnovator  artisanalfinancial  \\\n",
            "0           0.051254           0.018629           -0.072775   \n",
            "1           0.047633           0.043475           -0.175370   \n",
            "2           0.021429          -0.084774            0.016796   \n",
            "3           0.092598          -0.011483           -0.186505   \n",
            "4           0.156907          -0.052901           -0.104468   \n",
            "\n",
            "   communicativeuncommunicative  autonomousmicromanagement  \n",
            "0                     -0.008051                   0.004824  \n",
            "1                      0.036298                   0.017434  \n",
            "2                      0.093716                  -0.129708  \n",
            "3                      0.089913                   0.087726  \n",
            "4                     -0.018865                   0.133397  \n",
            "\n",
            "[5 rows x 82 columns]\n"
          ]
        }
      ]
    },
    {
      "cell_type": "code",
      "source": [
        "Google_News_polar_embedding = pd.read_csv('/content/drive/MyDrive/POLAR-GoogleNews-bus-antonyms-inter.csv')\n",
        "\n",
        "print(Google_News_polar_embedding.head())\n",
        "print()\n"
      ],
      "metadata": {
        "colab": {
          "base_uri": "https://localhost:8080/"
        },
        "id": "N_3yRYo0NWfF",
        "outputId": "fd77091b-2c8f-4ad9-d4fc-d052290959b4"
      },
      "execution_count": 52,
      "outputs": [
        {
          "output_type": "stream",
          "name": "stdout",
          "text": [
            "           Unnamed: 0  consistentinconsistent  femininemasculine  \\\n",
            "0             Walmart               -0.115656          -0.120423   \n",
            "1              Amazon               -0.160258           0.038591   \n",
            "2               Apple               -0.159647          -0.016919   \n",
            "3  UnitedHealth_Group               -0.131969          -0.131869   \n",
            "4        Toyota_Motor               -0.106953          -0.109444   \n",
            "\n",
            "   beneficialharmful  demotivatemotivate  ethicalunethical  \\\n",
            "0          -0.092401           -0.141716          0.032652   \n",
            "1          -0.120524           -0.029582          0.309201   \n",
            "2           0.065783            0.159316          0.261399   \n",
            "3           0.219067            0.101716          0.107616   \n",
            "4           0.020215            0.021142          0.044306   \n",
            "\n",
            "   satisfiedunsatisfied  flexiblerigid  amateurprofessional  privatepublic  \\\n",
            "0              0.058496       0.094844            -0.174673      -0.007981   \n",
            "1             -0.012463       0.203355            -0.069418       0.178192   \n",
            "2             -0.070375      -0.031331            -0.095266      -0.083809   \n",
            "3              0.141962       0.031183            -0.061853       0.282761   \n",
            "4              0.036714      -0.327223            -0.065068      -0.087228   \n",
            "\n",
            "   ...  physicalremote  credibledeceptive  dependentindependent  \\\n",
            "0  ...       -0.005171           0.067691              0.011089   \n",
            "1  ...       -0.196071          -0.001911             -0.048362   \n",
            "2  ...       -0.130792          -0.027968             -0.042108   \n",
            "3  ...       -0.051512          -0.340951             -0.158956   \n",
            "4  ...        0.029911           0.039510              0.129237   \n",
            "\n",
            "   bankruptcyprosperity  pressurerelax  opportunitythreat  criminalrightful  \\\n",
            "0              0.093996       0.208089           0.123447         -0.124498   \n",
            "1              0.014674       0.153692           0.013400         -0.111224   \n",
            "2              0.084573       0.063662           0.087542         -0.088443   \n",
            "3              0.064922       0.100642          -0.023526          0.006669   \n",
            "4             -0.005288       0.068588           0.091351         -0.067660   \n",
            "\n",
            "   neglectresponsible  disorderorder  captivefreedom  \n",
            "0           -0.051047      -0.038692        0.097567  \n",
            "1           -0.040998      -0.013064        0.128955  \n",
            "2            0.117593       0.046648        0.054115  \n",
            "3            0.109128       0.008520        0.015543  \n",
            "4            0.003125      -0.041092        0.011612  \n",
            "\n",
            "[5 rows x 82 columns]\n",
            "\n"
          ]
        }
      ]
    },
    {
      "cell_type": "code",
      "source": [
        "fortune_company = pd.read_csv('/content/drive/MyDrive/Fortune Global 500 companies.csv',encoding= 'unicode_escape')\n",
        "print(fortune_company.head())"
      ],
      "metadata": {
        "id": "578YAgRtwv7d"
      },
      "execution_count": null,
      "outputs": []
    },
    {
      "cell_type": "markdown",
      "source": [
        "**Below Code find the list common in two given csv file**"
      ],
      "metadata": {
        "id": "gx1_DXoCvC0u"
      }
    },
    {
      "cell_type": "code",
      "source": [
        "def listchecker(list1,list2): \n",
        "    \n",
        "  if len(list1) > len(list2):\n",
        "    l1 = list1\n",
        "    l2 = list2\n",
        "  else:\n",
        "    l1 = list2\n",
        "    l2 = list1\n",
        "\n",
        "  common_in_both_embeddings=[]\n",
        "\n",
        "  counter = 0\n",
        "  for i in l1:\n",
        "    i = i.lower()\n",
        "    i = i.replace(\"_\",\"\")\n",
        "    i = i.replace(\" \",\"\")\n",
        "    for j in l2:    \n",
        "      j = j.lower()\n",
        "      j = j.replace(\"_\",\"\")\n",
        "      j = j.replace(\" \",\"\")\n",
        "      if i == j:      \n",
        "        counter = counter +1\n",
        "        common_in_both_embeddings.append(i)        \n",
        "\n",
        "  return common_in_both_embeddings\n",
        "\n",
        "company_list = listchecker(Google_News_polar_embedding.iloc[:,0],wiki_polar_embedding.iloc[:,0])\n",
        "antonympair_list = listchecker(Google_News_polar_embedding.columns,wiki_polar_embedding.columns)\n"
      ],
      "metadata": {
        "id": "qLGB61kdsaPO"
      },
      "execution_count": 30,
      "outputs": []
    },
    {
      "cell_type": "markdown",
      "source": [
        "**Find the correct company and location by comparing with the fotune 500 companies csv file**"
      ],
      "metadata": {
        "id": "wNYkpd50yGJE"
      }
    },
    {
      "cell_type": "code",
      "source": [
        "company_location=[]\n",
        "fortune_company_name = []\n",
        "company_index=0;\n",
        "counter=0\n",
        "for index, row in fortune_company.iterrows(): \n",
        "  \n",
        "  s = row['Company']\n",
        "  s = s.lower()\n",
        "  s = s.replace(\" \",\"\")   \n",
        "  if s == company_list[company_index]:    \n",
        "    company_index = company_index+1\n",
        "    company_location.append(row['Location'])\n",
        "    fortune_company_name.append(row['Company'])\n",
        "    counter=counter+1\n",
        "        \n",
        "\n",
        "print(\"The size of the company list: \",counter)\n"
      ],
      "metadata": {
        "colab": {
          "base_uri": "https://localhost:8080/"
        },
        "id": "1Ct4HVyzu81f",
        "outputId": "968c6a6e-55cb-4d97-93c2-e327ad82ebba"
      },
      "execution_count": 34,
      "outputs": [
        {
          "output_type": "stream",
          "name": "stdout",
          "text": [
            "The size of the company list:  156\n",
            "['Walmart', 'Amazon', 'Apple', 'Volkswagen', 'McKesson', 'AmerisourceBergen', 'BP', 'Alphabet', 'Exxon Mobil', 'Daimler', 'Cigna', 'Microsoft', 'Glencore', 'Allianz', 'Kroger', 'Home Depot', 'JPMorgan Chase', 'AXA', 'General Motors', 'Anthem', 'Mitsubishi', 'Centene', 'Fannie Mae', 'Comcast', 'Itochu', 'Chevron', 'Target', 'Nestlé', 'Citigroup', 'Gazprom', 'Facebook', 'Sony', 'Hitachi', 'Carrefour', 'Tesco', 'AEON', 'Wells Fargo', 'General Electric', 'Intel', 'Sinopharm', 'Humana', 'COFCO', 'Mitsui', 'Enel', 'Lukoil', 'SK', 'E.ON', 'PepsiCo', 'Albertsons', 'BASF', 'FedEx', 'MetLife', 'Freddie Mac', 'Walt Disney', 'Siemens', 'Sinochem', 'Panasonic', 'Aviva', 'Marubeni', 'Aegon', 'Boeing', 'Unilever', 'Airbus', 'Petrobras', 'HP', 'Prudential', 'Fortum', 'ArcelorMittal', 'Sysco', 'JBS', 'Morgan Stanley', 'PTT', 'Vinci', 'Kia', 'ENI', 'KDDI', 'Novartis', 'Renault', 'Telefónica', 'POSCO', 'Bayer', 'Orange', 'Merck', 'Pegatron', 'Best Buy', 'Talanx', 'Denso', 'Allstate', 'Pemex', 'Accenture', 'Sumitomo', 'GlaxoSmithKline', 'Sberbank', 'Hanwha', 'Continental', 'Progressive', 'Sanofi', 'Petronas', 'Nationwide', 'Pfizer', 'Caterpillar', 'TIAA', 'Pertamina', 'Bunge', 'Fresenius', 'Vale', 'ACS', 'ThyssenKrupp', 'Bouygues', 'Oracle', 'Dow', 'Deutsche Bank', 'Iberdrola', 'Nike', 'Volvo', 'Metro', 'USAA', 'Chubb', 'Deere', 'Barclays', 'Tata Motors', 'Fujitsu', 'Aisin', 'Exelon', 'Repsol', '3M', 'TJX', 'Travelers', 'Tesla', 'SAP', 'ABB', 'Canon', 'Enbridge', 'Medtronic', 'Toshiba', 'Wistron', 'CHS', 'NEC', 'Bridgestone', 'CRH', 'Jabil', 'Linde', 'Danone', 'Achmea', 'Centrica', 'Subaru', 'AstraZeneca', 'Dollar Tree', 'Amgen', 'Ericsson', 'Netflix', 'Nokia', 'Synnex', 'Holcim', 'Flex', 'Rite Aid']\n"
          ]
        }
      ]
    },
    {
      "cell_type": "code",
      "source": [
        "def antonym_pair_values_list_maker(df,antonym_pair):\n",
        "  antonym_value=[]\n",
        "  counter=0\n",
        "  for index, row in df.iterrows(): \n",
        "    try:\n",
        "      antonym = row[antonym_pair]\n",
        "      company = row[0]\n",
        "      company = company.lower()\n",
        "      company = company.replace(\" \",\"\")\n",
        "      company = company.replace(\"_\",\"\")\n",
        "      if company == company_list[counter]:\n",
        "        antonym_value.append(antonym)\n",
        "        counter = counter+1\n",
        "        \n",
        "    except:\n",
        "      print(\"Antonym pair doesnt exist \",antonym_pair)\n",
        "  return antonym_value\n",
        "\n",
        "antonym_list1 = antonym_pair_values_list_maker(wiki_polar_embedding,\"femininemasculine\")\n",
        "antonym_list2 = antonym_pair_values_list_maker(Google_News_polar_embedding,\"femininemasculine\")\n",
        "\n",
        "print(antonym_list1)\n",
        "print(antonym_list2)"
      ],
      "metadata": {
        "colab": {
          "base_uri": "https://localhost:8080/"
        },
        "id": "zBptEfBUyMs3",
        "outputId": "32634eca-8bcc-468d-8948-ae2f34c40296"
      },
      "execution_count": 57,
      "outputs": [
        {
          "output_type": "stream",
          "name": "stdout",
          "text": [
            "[-0.00088337954, -0.059731845, 0.018550467, -0.011157073, 0.07107721, -0.20122787, 0.0695179, -0.16373388, 0.1434987, 0.12301238, 0.20362094, 0.121370666, -0.11158677, -0.04399134, 0.06675096, -0.24835087, -0.12533768, -0.07045799, 0.21245326, -0.12820151, -0.03324607, 0.2383769, 0.09403195, 0.073329575, -0.11649244, 0.17920138, -0.014164132, 0.25998163, -0.08446753, -0.014086691, 0.025612988, -0.13665171, 0.07513444, 0.16411515, 0.013385613, 0.11395664, -0.013211111, 0.08888833, -0.069275156, 0.13884446, 0.13636687, 0.0062296516, -0.4348482, -0.20787796, -0.056176174, 0.031792786, -0.060343046, 0.3267546, 0.10890608, -0.07278448, -0.1186892, -0.034698028, 0.06251386, -0.13934603, -0.09172379, -0.071180835, -0.051062476, 0.2519458, -0.32750845, 0.041284434, 0.0425317, 0.10592971, 0.02997076, 0.087699085, 0.10813261, 0.08338517, -0.03479807, -0.009118432, -0.0053156735, -0.09458454, 0.173992, -0.10363392, 0.07225065, -0.066856, -0.08757121, 0.17009534, 0.26855132, 0.13129725, -0.26599887, 0.043588057, 0.18305616, -0.12229949, -0.021504166, 0.124631524, -0.09306511, -0.012888347, -0.12913527, 0.18929538, -0.20647426, 0.0046220794, -0.1384047, 0.01285315, -0.21648456, -0.0075029093, -0.069644116, 0.07230405, 0.41183883, -0.15647776, 0.13876629, 0.13753171, -0.013531826, -0.002222116, -0.22867094, 0.07316425, 0.28573442, -0.06701962, -0.11800364, 0.0037752253, -0.13734667, 0.24284068, 0.15805782, -0.11581866, 0.05573076, -0.021738533, -0.024219053, -0.19446257, -0.08854038, -0.16105887, -0.076166, -0.046796985, -0.06586269, 0.19313651, -0.061780054, 0.012642771, -0.025442284, 0.16759226, 0.04785415, 0.019466456, -0.019407252, 0.062119406, -0.11009545, -0.14542967, 0.0139842555, 0.34900227, 0.11472068, 0.30620867, 0.00043333345, 0.18250348, -0.20323558, -0.07207186, 0.12554799, 0.2828546, 0.31355584, -0.040158965, -0.028495403, -0.1584321, 0.10331202, 0.04549159, 0.13763726, -0.05151607, -0.050239746, -0.25394526, 0.3184405, -0.04160233, -0.15843289, 0.12025853]\n",
            "[-0.120423116, 0.038590603, -0.016919486, -0.4508828, 0.11342135, 0.11216267, -0.0059965183, 0.14129557, -0.18533343, -0.29664642, 0.11574205, -0.10918708, -0.20423377, 0.033998523, -0.093557276, -0.1738943, 0.13482618, 0.07508399, -0.3285601, 0.029530292, -0.34291232, 0.08642137, -0.116139844, -0.13987988, -0.07139622, -0.20512033, -0.07409432, -0.008625394, -0.066778764, -0.25075904, 0.11336742, -0.0024249665, -0.15987325, 0.09092613, 0.041756917, 0.06396655, -0.03294119, -0.19193697, -0.22161648, 0.07901975, 0.029963177, -0.13494752, -0.0045221536, -0.05619042, -0.16624783, 0.056672048, -0.19094016, 0.02539502, -0.12801565, -0.00444687, -0.22808439, -0.20768256, -0.15974371, 0.0967768, -0.16349925, 0.011108484, 0.059293702, 0.21665561, -0.04888626, 0.019776586, -0.31341082, 0.09622864, -0.18156981, -0.31281608, -0.107015476, -0.14228027, -0.19792072, 0.039541893, -0.30759814, -0.02269696, 0.003537257, 0.0092317825, -0.08997067, -0.19754347, -0.16875713, 0.20590207, 0.13970417, -0.19147244, 0.08941194, -0.2488121, 0.028483937, 0.22332835, 0.05575791, 0.013468898, -0.26170686, -0.11839163, -0.19753361, -0.10276672, -0.19883431, -0.084804945, -0.18927436, 0.08330618, -0.2253371, -0.20975253, -0.2932026, 0.03777132, 0.19461928, -0.26918504, 0.0023988516, 0.06038984, -0.2055826, -0.056990355, -0.24660827, 0.04632166, 0.008792183, 0.05831907, 0.14261642, -0.30411512, -0.034456544, -0.12646523, 0.09890786, -0.22636506, 0.041698076, -0.074324526, -0.3782531, 0.09892405, -0.22731835, -0.3571075, -0.04334945, 0.048797872, -0.09206181, -0.018002631, -0.2042788, -0.038013738, -0.17471825, 0.062948674, 0.13413085, 0.1570746, -0.4145718, -0.16364926, -0.2375312, 0.047362007, -0.07775394, -0.07854408, -0.057854604, 0.12142248, -0.024137624, -0.21869051, -0.0007101297, 0.028100295, -0.002582882, -0.42221117, 0.023101995, 0.18301675, -0.2849792, -0.3477545, -0.012921187, -0.029557155, 0.07062994, -0.010146445, -0.066783465, 0.07103896, -0.17865677, 0.047542777, -0.40885738, -0.031090466]\n"
          ]
        }
      ]
    },
    {
      "cell_type": "code",
      "source": [
        "data = {\n",
        "        'Company Name' : fortune_company_name,    \n",
        "        'Location': company_location,      \n",
        "        'antonym_list1' : antonym_list1,\n",
        "        'antonym_list2' : antonym_list2\n",
        "        }\n",
        "\n",
        "df = pd.DataFrame(data)\n",
        "print(df.head())"
      ],
      "metadata": {
        "colab": {
          "base_uri": "https://localhost:8080/"
        },
        "id": "YeUlgsm6xI61",
        "outputId": "ffa0d9e7-7c25-4e7b-859e-2e82574efad8"
      },
      "execution_count": 58,
      "outputs": [
        {
          "output_type": "stream",
          "name": "stdout",
          "text": [
            "  Company Name Location  antonym_list1  antonym_list2\n",
            "0      Walmart      USA      -0.000883      -0.120423\n",
            "1       Amazon      USA      -0.059732       0.038591\n",
            "2        Apple      USA       0.018550      -0.016919\n",
            "3   Volkswagen  Germany      -0.011157      -0.450883\n",
            "4     McKesson      USA       0.071077       0.113421\n"
          ]
        }
      ]
    }
  ]
}